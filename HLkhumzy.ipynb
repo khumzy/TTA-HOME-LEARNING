{
 "cells": [
  {
   "cell_type": "code",
   "execution_count": 23,
   "metadata": {},
   "outputs": [
    {
     "ename": "IndentationError",
     "evalue": "expected an indented block after 'for' statement on line 3 (3629372788.py, line 4)",
     "output_type": "error",
     "traceback": [
      "\u001b[1;36m  Input \u001b[1;32mIn [23]\u001b[1;36m\u001b[0m\n\u001b[1;33m    random_number_1 = random_selection\u001b[0m\n\u001b[1;37m    ^\u001b[0m\n\u001b[1;31mIndentationError\u001b[0m\u001b[1;31m:\u001b[0m expected an indented block after 'for' statement on line 3\n"
     ]
    }
   ],
   "source": [
    "import random\n",
    "number=random.randint(1,10)\n",
    "for i in range(11) : #( starting, ending, steps) -> default(0, number provided, 1)\n",
    "random_number_1 = random_selection\n",
    "print(random_number_1)\n",
    "\n"
   ]
  },
  {
   "cell_type": "code",
   "execution_count": 32,
   "metadata": {},
   "outputs": [
    {
     "name": "stdout",
     "output_type": "stream",
     "text": [
      "0.9306449787654499\n",
      "0.9306449787654499\n"
     ]
    }
   ],
   "source": [
    "import random\n",
    "random_selection = random.random()\n",
    "random_number_1 = random_selection\n",
    "random_number_2 = random_selection\n",
    "print(random_number_1)\n",
    "print(random_number_2)"
   ]
  },
  {
   "cell_type": "code",
   "execution_count": 103,
   "metadata": {},
   "outputs": [
    {
     "name": "stdout",
     "output_type": "stream",
     "text": [
      "You are wrong, it was not: 3 it was: 16\n"
     ]
    }
   ],
   "source": [
    "import random\n",
    "num = random.randint(1, 100)\n",
    "username = input('what is your name? ')\n",
    "guess_number = int(input('select a number between 1 and 100'))\n",
    "if num == guess_number:\n",
    "    print('You are correct, Welldone')\n",
    "else:\n",
    "    print('You are wrong, it was not:', guess_number, 'it was:', num )"
   ]
  },
  {
   "cell_type": "code",
   "execution_count": null,
   "metadata": {},
   "outputs": [],
   "source": []
  }
 ],
 "metadata": {
  "interpreter": {
   "hash": "f8c626cfda6838034d9e1929ec7d4be60ed6b497ca7ff68829194fd89a1adec2"
  },
  "kernelspec": {
   "display_name": "Python 3.10.2 64-bit",
   "language": "python",
   "name": "python3"
  },
  "language_info": {
   "codemirror_mode": {
    "name": "ipython",
    "version": 3
   },
   "file_extension": ".py",
   "mimetype": "text/x-python",
   "name": "python",
   "nbconvert_exporter": "python",
   "pygments_lexer": "ipython3",
   "version": "3.10.2"
  },
  "orig_nbformat": 4
 },
 "nbformat": 4,
 "nbformat_minor": 2
}
