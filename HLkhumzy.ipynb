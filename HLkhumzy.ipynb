{
 "cells": [
  {
   "cell_type": "code",
   "execution_count": 103,
   "metadata": {},
   "outputs": [
    {
     "name": "stdout",
     "output_type": "stream",
     "text": [
      "You are wrong, it was not: 3 it was: 16\n"
     ]
    }
   ],
   "source": [
    "import random\n",
    "num = random.randint(1, 100)\n",
    "username = input('what is your name? ')\n",
    "guess_number = int(input('select a number between 1 and 100'))\n",
    "if num == guess_number:\n",
    "    print('You are correct, Welldone')\n",
    "else:\n",
    "    print('You are wrong, it was not:', guess_number, 'it was:', num )"
   ]
  },
  {
   "cell_type": "code",
   "execution_count": 110,
   "metadata": {},
   "outputs": [
    {
     "name": "stdout",
     "output_type": "stream",
     "text": [
      "Joke1\n"
     ]
    }
   ],
   "source": [
    "number = int(input('select a number between 0 and 100'))\n",
    "\n",
    "if number < 30:\n",
    "    print ('Joke1')\n",
    "elif number < 60:\n",
    "    print ('Joke2')\n",
    "elif number >= 60:\n",
    " print ('Joke3')"
   ]
  },
  {
   "cell_type": "code",
   "execution_count": 119,
   "metadata": {},
   "outputs": [
    {
     "name": "stdout",
     "output_type": "stream",
     "text": [
      "Your favourite meal is: rice as a starter, beans as main, cream as desert and soda as the drink\n"
     ]
    }
   ],
   "source": [
    "starter = input('what is your favourite starter?')\n",
    "main = input('what is your favourite main course?')\n",
    "dessert = input('what is your favourite dessert?')\n",
    "drink = input('what is your favourite drink?')\n",
    "\n",
    "print('Your favourite meal is:', starter, 'as a starter,' , main, 'as main,' , dessert, 'as desert'' and' , drink, 'as the drink')"
   ]
  },
  {
   "cell_type": "code",
   "execution_count": 126,
   "metadata": {},
   "outputs": [
    {
     "name": "stdout",
     "output_type": "stream",
     "text": [
      "Bike cost 2000\n",
      "Bike cost 1800.0\n",
      "Bike cost 1620.0\n",
      "Bike cost 1458.0\n",
      "Bike cost 1312.2\n",
      "Bike cost 1180.98\n",
      "Bike cost 1062.882\n"
     ]
    }
   ],
   "source": [
    "bike_price = 2000\n",
    "\n",
    "while bike_price > 1000:\n",
    "   print('Bike cost', bike_price)\n",
    "   bike_price = bike_price*0.90\n"
   ]
  },
  {
   "cell_type": "code",
   "execution_count": 147,
   "metadata": {},
   "outputs": [
    {
     "ename": "SyntaxError",
     "evalue": "invalid syntax (1269939520.py, line 5)",
     "output_type": "error",
     "traceback": [
      "\u001b[1;36m  Input \u001b[1;32mIn [147]\u001b[1;36m\u001b[0m\n\u001b[1;33m    If sign == \"+\":\u001b[0m\n\u001b[1;37m       ^\u001b[0m\n\u001b[1;31mSyntaxError\u001b[0m\u001b[1;31m:\u001b[0m invalid syntax\n"
     ]
    }
   ],
   "source": [
    "num1 = int(input('Please enter a number'))\n",
    "num2 = int(input('Please enter a second number'))\n",
    "sign = input('Please enter a operator choice (+,-,*,**,/,%,//): ')\n",
    "\n",
    "If sign == \"+\":\n",
    "     print(num1+num2)\n",
    "elif sign == \"-\":\n",
    "     print(num1-num2)\n",
    "elif sign == '/':\n",
    "     print(num1/num2)\n",
    "elif sign == '*':\n",
    "     print(num1*num2)\n",
    "elif sign == '**'\n",
    "     print(num1**num2)\n",
    "elif sign == '//':\n",
    "     print(num1//num2)\n",
    "elif sign == '%':\n",
    "     print(num1%num2)\n"
   ]
  }
 ],
 "metadata": {
  "interpreter": {
   "hash": "f8c626cfda6838034d9e1929ec7d4be60ed6b497ca7ff68829194fd89a1adec2"
  },
  "kernelspec": {
   "display_name": "Python 3.10.2 64-bit",
   "language": "python",
   "name": "python3"
  },
  "language_info": {
   "codemirror_mode": {
    "name": "ipython",
    "version": 3
   },
   "file_extension": ".py",
   "mimetype": "text/x-python",
   "name": "python",
   "nbconvert_exporter": "python",
   "pygments_lexer": "ipython3",
   "version": "3.10.2"
  },
  "orig_nbformat": 4
 },
 "nbformat": 4,
 "nbformat_minor": 2
}
